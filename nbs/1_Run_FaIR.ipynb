{
 "cells": [
  {
   "cell_type": "code",
   "execution_count": 1,
   "id": "d748b640-e943-43a4-8b64-6e677f4188cb",
   "metadata": {},
   "outputs": [],
   "source": [
    "import pandas as pd\n",
    "\n",
    "from fair import FAIR\n",
    "from fair.interface import fill, initialise\n",
    "from fair.io import read_properties"
   ]
  },
  {
   "cell_type": "markdown",
   "id": "9ae12362-df97-48e4-ba99-772009db60f0",
   "metadata": {},
   "source": [
    "# Run FaIR"
   ]
  },
  {
   "cell_type": "code",
   "execution_count": 2,
   "id": "d5b53505-1ae8-4c23-9b54-db9fb50eaff9",
   "metadata": {},
   "outputs": [],
   "source": [
    "f = FAIR(ch4_method=\"Thornhill2021\")"
   ]
  },
  {
   "cell_type": "code",
   "execution_count": 3,
   "id": "e3223408-fa33-464b-8268-ce67c19b5141",
   "metadata": {},
   "outputs": [],
   "source": [
    "f.define_time(1750, 2300, 1)  # start, end, step"
   ]
  },
  {
   "cell_type": "code",
   "execution_count": 4,
   "id": "578f348b-100e-40d7-80dd-af2dd73d9b42",
   "metadata": {},
   "outputs": [],
   "source": [
    "scenarios = [\n",
    "    \"medium-extension\",\n",
    "    \"instant-removal-offsetting\",\n",
    "    \"physical-delay-offsetting\",\n",
    "    \"accelerated-emissions-offsetting\",\n",
    "    \"upfront-embodied-offsetting\",\n",
    "]"
   ]
  },
  {
   "cell_type": "code",
   "execution_count": 5,
   "id": "ac5b15c8-c014-4596-84e8-9f0b9ba3e9e3",
   "metadata": {},
   "outputs": [],
   "source": [
    "f.define_scenarios(scenarios)"
   ]
  },
  {
   "cell_type": "code",
   "execution_count": 6,
   "id": "9e06c34f-111e-40da-8544-0aadd23cfc7a",
   "metadata": {},
   "outputs": [],
   "source": [
    "fair_params_1_4_1_file = (\n",
    "    \"../data/original/calibrated_constrained_parameters_calibration1.4.1.csv\"\n",
    ")"
   ]
  },
  {
   "cell_type": "code",
   "execution_count": 7,
   "id": "0832ba7d-4b6e-4831-845f-f90eacbfbfe2",
   "metadata": {},
   "outputs": [],
   "source": [
    "df_configs = pd.read_csv(fair_params_1_4_1_file, index_col=0)\n",
    "configs = df_configs.index  # this is used as a label for the \"config\" axis\n",
    "f.define_configs(configs)"
   ]
  },
  {
   "cell_type": "code",
   "execution_count": 8,
   "id": "f732fa29-fbd9-4035-87d9-a5c7950f1ee7",
   "metadata": {},
   "outputs": [],
   "source": [
    "fair_species_configs_1_4_1_file = (\n",
    "    \"../data/original/species_configs_properties_calibration1.4.1.csv\"\n",
    ")"
   ]
  },
  {
   "cell_type": "code",
   "execution_count": 9,
   "id": "e19fb7d5-1dd6-4485-b546-cd8af959905c",
   "metadata": {},
   "outputs": [],
   "source": [
    "species, properties = read_properties(filename=fair_species_configs_1_4_1_file)\n",
    "f.define_species(species, properties)"
   ]
  },
  {
   "cell_type": "code",
   "execution_count": 10,
   "id": "116fc682-b9b1-4c76-8c28-8ba8c42c86ca",
   "metadata": {},
   "outputs": [],
   "source": [
    "f.allocate()"
   ]
  },
  {
   "cell_type": "code",
   "execution_count": 11,
   "id": "193eff48-15f8-4493-921b-6b2ab7535d3b",
   "metadata": {},
   "outputs": [],
   "source": [
    "f.fill_from_csv(\n",
    "    emissions_file=\"../data/modified/emissions.csv\",\n",
    "    forcing_file=\"../data/modified/volcanic.csv\",\n",
    ")"
   ]
  },
  {
   "cell_type": "code",
   "execution_count": 12,
   "id": "64bfff19-6fcc-4ebc-b66a-2c9c31315d83",
   "metadata": {},
   "outputs": [],
   "source": [
    "fill(\n",
    "    f.forcing,\n",
    "    f.forcing.sel(specie=\"Volcanic\")\n",
    "    * df_configs[\"forcing_scale[Volcanic]\"].values.squeeze(),\n",
    "    specie=\"Volcanic\",\n",
    ")\n",
    "fill(\n",
    "    f.forcing,\n",
    "    f.forcing.sel(specie=\"Solar\") * df_configs[\"forcing_scale[Solar]\"].values.squeeze(),\n",
    "    specie=\"Solar\",\n",
    ")"
   ]
  },
  {
   "cell_type": "code",
   "execution_count": 13,
   "id": "1d5da1ac-12fe-4eaf-a2ad-5844fb660684",
   "metadata": {},
   "outputs": [],
   "source": [
    "f.fill_species_configs(fair_species_configs_1_4_1_file)\n",
    "f.override_defaults(fair_params_1_4_1_file)"
   ]
  },
  {
   "cell_type": "code",
   "execution_count": 14,
   "id": "c1032d8d-cc81-461d-bb1a-776240c40342",
   "metadata": {},
   "outputs": [],
   "source": [
    "initialise(f.concentration, f.species_configs[\"baseline_concentration\"])\n",
    "initialise(f.forcing, 0)\n",
    "initialise(f.temperature, 0)\n",
    "initialise(f.cumulative_emissions, 0)\n",
    "initialise(f.airborne_emissions, 0)\n",
    "initialise(f.ocean_heat_content_change, 0)"
   ]
  },
  {
   "cell_type": "code",
   "execution_count": 15,
   "id": "8b3f3436-5dd0-424e-87ad-8f16e20a94ae",
   "metadata": {},
   "outputs": [
    {
     "data": {
      "application/vnd.jupyter.widget-view+json": {
       "model_id": "5bc1c4373e0c44e8b77b5d1e6bea9efd",
       "version_major": 2,
       "version_minor": 0
      },
      "text/plain": [
       "Running 4205 projections in parallel:   0%|          | 0/550 [00:00<?, ?timesteps/s]"
      ]
     },
     "metadata": {},
     "output_type": "display_data"
    }
   ],
   "source": [
    "f.run()"
   ]
  },
  {
   "cell_type": "markdown",
   "id": "f6276d1b-49f3-4bf0-a76a-ee09569a9a72",
   "metadata": {},
   "source": [
    "# Save output"
   ]
  },
  {
   "cell_type": "code",
   "execution_count": 16,
   "id": "3cbc43db-77f5-4525-9576-5cd1a30c16ab",
   "metadata": {},
   "outputs": [],
   "source": [
    "f.temperature.to_netcdf(\"../data/outputs/temperature_medium_emissions.nc\")"
   ]
  },
  {
   "cell_type": "code",
   "execution_count": 17,
   "id": "029963f9-bff5-4c81-9800-0592bb74f48c",
   "metadata": {},
   "outputs": [],
   "source": [
    "pd.DataFrame(f.timebounds).to_csv(\"../data/outputs/timebounds.csv\", index=False)"
   ]
  },
  {
   "cell_type": "code",
   "execution_count": null,
   "id": "24036a19-a6f2-4aae-a59f-dc3145981f01",
   "metadata": {},
   "outputs": [],
   "source": []
  }
 ],
 "metadata": {
  "kernelspec": {
   "display_name": "Python 3 (ipykernel)",
   "language": "python",
   "name": "python3"
  },
  "language_info": {
   "codemirror_mode": {
    "name": "ipython",
    "version": 3
   },
   "file_extension": ".py",
   "mimetype": "text/x-python",
   "name": "python",
   "nbconvert_exporter": "python",
   "pygments_lexer": "ipython3",
   "version": "3.13.7"
  }
 },
 "nbformat": 4,
 "nbformat_minor": 5
}
