{
 "cells": [
  {
   "cell_type": "code",
   "execution_count": null,
   "id": "9c61b67a-f800-4aba-8292-5f7169b7edd6",
   "metadata": {},
   "outputs": [],
   "source": [
    "import pandas as pd\n",
    "import numpy as np\n",
    "import matplotlib.pyplot as plt"
   ]
  },
  {
   "cell_type": "code",
   "execution_count": null,
   "id": "1003db2d-fefe-4039-997e-2236409db03f",
   "metadata": {},
   "outputs": [],
   "source": [
    "emissions = pd.read_csv(\"../data/original/extensions_1750-2500.csv\")"
   ]
  },
  {
   "cell_type": "code",
   "execution_count": null,
   "id": "f50e31ae-0fad-439c-93e9-1108ce3edfef",
   "metadata": {},
   "outputs": [],
   "source": [
    "volcanic = pd.read_csv(\"../data/original/volcanic_solar.csv\")"
   ]
  },
  {
   "cell_type": "code",
   "execution_count": null,
   "id": "eec74dd7-c747-43de-97bb-43c6ea2f4732",
   "metadata": {},
   "outputs": [],
   "source": [
    "baseline_scenario = \"low\"\n",
    "volcanic_subset = volcanic[volcanic[\"Scenario\"].isin([baseline_scenario])].reset_index(\n",
    "    drop=True\n",
    ")\n",
    "emissions_subset = emissions[\n",
    "    emissions[\"scenario\"].isin([baseline_scenario])\n",
    "].reset_index(drop=True)"
   ]
  },
  {
   "cell_type": "code",
   "execution_count": null,
   "id": "192670f1-4eef-45c2-b62e-fed5b7df872e",
   "metadata": {},
   "outputs": [],
   "source": [
    "volcanic_subset.iloc[:, 269:] = 0"
   ]
  },
  {
   "cell_type": "code",
   "execution_count": null,
   "id": "686b87a2-9fb7-4efd-be8a-9613906660a0",
   "metadata": {},
   "outputs": [],
   "source": [
    "def copy_baseline(scenario_name: str, emissions_baseline, volcanic_baseline):\n",
    "    emissions_new_scenario = emissions_baseline.copy().reset_index(drop=True)\n",
    "    emissions_new_scenario[\"scenario\"] = scenario_name\n",
    "\n",
    "    volcanic_new_scenario = volcanic_baseline.copy().reset_index(drop=True)\n",
    "    volcanic_new_scenario[\"Scenario\"] = scenario_name\n",
    "\n",
    "    return emissions_new_scenario, volcanic_new_scenario"
   ]
  },
  {
   "cell_type": "code",
   "execution_count": null,
   "id": "388aeb5a-6642-4f37-bdca-5c5def4066b0",
   "metadata": {},
   "outputs": [],
   "source": [
    "def calculate_drawdown_from_CDR(CDR_deployment, trace):\n",
    "    drawdown_full = np.convolve(CDR_deployment, trace, mode=\"full\")\n",
    "    drawdown_tseries = drawdown_full[: len(CDR_deployment)]\n",
    "    return drawdown_tseries"
   ]
  },
  {
   "cell_type": "code",
   "execution_count": null,
   "id": "a0de6378-c4d7-4079-8fe7-d0f1c658be62",
   "metadata": {},
   "outputs": [],
   "source": [
    "def calculate_drawdown_with_embedded_emissions(CDR_deployment, \n",
    "                             plant_lifetime: int = 20):\n",
    "    \n",
    "    df_CDR_plants = pd.DataFrame(data=CDR_deployment, columns=[\"CDR_deployment\"])\n",
    "    df_CDR_plants[\"year\"]=years\n",
    "    for plant_age in np.arange(0,plant_lifetime):\n",
    "        df_CDR_plants[plant_age]=0.0\n",
    "\n",
    "    for i, year in enumerate(df_CDR_plants.year[1:]):\n",
    "        df_lastyear = df_CDR_plants[df_CDR_plants['year']==(year-1)]\n",
    "        \n",
    "        df_CDR_plants.loc[df_CDR_plants['year']==year,\n",
    "            (np.arange(1,plant_lifetime)).tolist()] = df_lastyear[list(range(0,plant_lifetime-1))].values\n",
    "        \n",
    "        capacity_from_last_year = np.nansum(df_CDR_plants.loc[df_CDR_plants['year']==year,\n",
    "            (np.arange(1,plant_lifetime)).tolist()])\n",
    "        \n",
    "        capacity_needed = df_CDR_plants.loc[df_CDR_plants['year']==year,'CDR_deployment'].values[0]\n",
    "        \n",
    "        new_capacity_installed = capacity_needed - capacity_from_last_year\n",
    "        \n",
    "        df_CDR_plants.loc[df_CDR_plants['year']==year,\n",
    "            0] = new_capacity_installed\n",
    "\n",
    "    CDR_first_year = df_CDR_plants[0]\n",
    "    CDR_subsequent_years = df_CDR_plants[np.arange(1,plant_lifetime).tolist()].sum(axis=1)\n",
    "    \n",
    "    actual_emissions = (CDR_first_year*1.85)+(CDR_subsequent_years*-1.15)\n",
    "\n",
    "    return actual_emissions"
   ]
  },
  {
   "cell_type": "code",
   "execution_count": null,
   "id": "3a9db103-335a-42e1-ad9a-5b6a527302b9",
   "metadata": {},
   "outputs": [],
   "source": [
    "emissions_instant, volcanic_instant = copy_baseline(\n",
    "    scenario_name=\"instant-removal\",\n",
    "    emissions_baseline=emissions_subset,\n",
    "    volcanic_baseline=volcanic_subset,\n",
    ")\n",
    "\n",
    "emissions_instant_offset, volcanic_instant_offset = copy_baseline(\n",
    "    scenario_name=\"instant-removal-offsetting\",\n",
    "    emissions_baseline=emissions_subset,\n",
    "    volcanic_baseline=volcanic_subset,\n",
    ")\n",
    "\n",
    "emissions_delay, volcanic_delay = copy_baseline(\n",
    "    scenario_name=\"physical-delay\",\n",
    "    emissions_baseline=emissions_subset,\n",
    "    volcanic_baseline=volcanic_subset,\n",
    ")\n",
    "\n",
    "emissions_delay_offset, volcanic_delay_offset = copy_baseline(\n",
    "    scenario_name=\"physical-delay-offsetting\",\n",
    "    emissions_baseline=emissions_subset,\n",
    "    volcanic_baseline=volcanic_subset,\n",
    ")\n",
    "\n",
    "emissions_accelerated, volcanic_accelerated = copy_baseline(\n",
    "    scenario_name=\"accelerated-emissions\",\n",
    "    emissions_baseline=emissions_subset,\n",
    "    volcanic_baseline=volcanic_subset,\n",
    ")\n",
    "\n",
    "emissions_accelerated_offset, volcanic_accelerated_offset = copy_baseline(\n",
    "    scenario_name=\"accelerated-emissions-offsetting\",\n",
    "    emissions_baseline=emissions_subset,\n",
    "    volcanic_baseline=volcanic_subset,\n",
    ")\n",
    "\n",
    "emissions_upfront, volcanic_upfront = copy_baseline(\n",
    "    scenario_name=\"upfront-embodied\",\n",
    "    emissions_baseline=emissions_subset,\n",
    "    volcanic_baseline=volcanic_subset,\n",
    ")\n",
    "\n",
    "emissions_upfront_offset, volcanic_upfront_offset = copy_baseline(\n",
    "    scenario_name=\"upfront-embodied-offsetting\",\n",
    "    emissions_baseline=emissions_subset,\n",
    "    volcanic_baseline=volcanic_subset,\n",
    ")"
   ]
  },
  {
   "cell_type": "markdown",
   "id": "80d3bd28-faf8-49dd-a02c-c262458e110c",
   "metadata": {},
   "source": [
    "# Calculate and write new emissions"
   ]
  },
  {
   "cell_type": "code",
   "execution_count": null,
   "id": "04756df6-4c2f-4255-8cb5-dc55a53bfff3",
   "metadata": {},
   "outputs": [],
   "source": [
    "# From AR6 IAMs\n",
    "AR6_cdr = pd.read_csv(\"../data/CDR_1.5deg_Fuhrman.csv\")[\"Val\"]\n",
    "row_num = emissions_subset.index[emissions_delay[\"variable\"] == \"CO2 FFI\"][0]\n",
    "years = emissions_subset.iloc[row_num, 4:].index.values.astype(\"float32\")\n",
    "CDR_deployment = np.zeros(np.shape(years))\n",
    "CDR_deployment[255:351] = -AR6_cdr\n",
    "CDR_deployment[351:] = -AR6_cdr.values[-1]"
   ]
  },
  {
   "cell_type": "code",
   "execution_count": null,
   "id": "e4a823b0-2a19-4c09-8cf3-44a9751d1b47",
   "metadata": {
    "scrolled": true
   },
   "outputs": [],
   "source": [
    "trace_physical_delay = -np.ones(20) / 19\n",
    "trace_physical_delay[0] = 0\n",
    "trace_instant_removal = np.zeros(20)\n",
    "trace_instant_removal[0] = -1\n",
    "trace_accelerated_emissions = -np.ones(20) / 10\n",
    "trace_accelerated_emissions[0] = 0.9\n",
    "print(np.nansum(trace_physical_delay))\n",
    "print(np.nansum(trace_instant_removal))\n",
    "print(np.nansum(trace_accelerated_emissions))\n",
    "\n",
    "drawdown_physical_delay = calculate_drawdown_from_CDR(\n",
    "    CDR_deployment=CDR_deployment, trace=trace_physical_delay\n",
    ")\n",
    "drawdown_instant_removal = calculate_drawdown_from_CDR(\n",
    "    CDR_deployment=CDR_deployment, trace=trace_instant_removal\n",
    ")\n",
    "drawdown_accelerated_emissions = calculate_drawdown_from_CDR(\n",
    "    CDR_deployment=CDR_deployment, trace=trace_accelerated_emissions\n",
    ")\n",
    "\n",
    "drawdown_embodied_emissions = calculate_drawdown_with_embedded_emissions(CDR_deployment=CDR_deployment).values"
   ]
  },
  {
   "cell_type": "code",
   "execution_count": null,
   "id": "2bc4f85f-d0b0-4dc3-9fb5-83f72aea32d7",
   "metadata": {},
   "outputs": [],
   "source": [
    "plt.plot(np.cumsum(trace_physical_delay), label=\"Physical delay\", color=\"blue\")\n",
    "plt.plot(np.cumsum(trace_instant_removal), label=\"Instant removal\", color=\"green\")\n",
    "plt.plot(\n",
    "    np.cumsum(trace_accelerated_emissions), label=\"Accelerated emissions\", color=\"red\"\n",
    ")\n",
    "plt.legend()\n",
    "plt.axhline(y=0, linestyle=\"--\", color=\"gray\")\n",
    "plt.xlabel(\"Year\")\n",
    "plt.ylabel(\"Cumulative Net Emissions\")\n",
    "plt.axvline(x=0, linestyle=\"--\", color=\"gray\")\n",
    "plt.savefig(\"../figures/Trace_buying_1ton_CDR.png\")"
   ]
  },
  {
   "cell_type": "code",
   "execution_count": null,
   "id": "51c721be-3569-4d09-84b5-c32baa165a68",
   "metadata": {},
   "outputs": [],
   "source": [
    "drawdown_physical_delay_offset = drawdown_physical_delay + CDR_deployment\n",
    "drawdown_instant_removal_offset = drawdown_instant_removal + CDR_deployment\n",
    "drawdown_accelerated_emissions_offset = drawdown_accelerated_emissions + CDR_deployment\n",
    "drawdown_embodied_emissions_offset = drawdown_embodied_emissions + CDR_deployment"
   ]
  },
  {
   "cell_type": "code",
   "execution_count": null,
   "id": "8fbd48b7-eaab-43f1-80db-c80b83ffcbc3",
   "metadata": {},
   "outputs": [],
   "source": [
    "plt.plot(\n",
    "    years,\n",
    "    CDR_deployment,\n",
    "    \"-\",\n",
    "    label=\"Emissions being potentially offset\",\n",
    "    color=\"black\",\n",
    ")\n",
    "plt.xlim([2000, 2100])\n",
    "plt.plot(years, drawdown_physical_delay, label=\"Physical delay\", color=\"blue\")\n",
    "plt.plot(years, drawdown_instant_removal, label=\"Instant removal\", color=\"green\")\n",
    "plt.plot(\n",
    "    years, drawdown_accelerated_emissions, label=\"Accelerated emissions\", color=\"red\"\n",
    ")\n",
    "plt.plot(years, drawdown_embodied_emissions, label=\"Embodied emissions\", color=\"purple\")\n",
    "\n",
    "plt.plot(\n",
    "    years,\n",
    "    drawdown_physical_delay_offset,\n",
    "    \"--\",\n",
    "    label=\"Physical delay (offsetting emissions)\",\n",
    "    color=\"blue\",\n",
    ")\n",
    "plt.plot(\n",
    "    years,\n",
    "    drawdown_instant_removal_offset,\n",
    "    \"--\",\n",
    "    label=\"Instant removal (offsetting emissions)\",\n",
    "    color=\"green\",\n",
    ")\n",
    "plt.plot(\n",
    "    years,\n",
    "    drawdown_accelerated_emissions_offset,\n",
    "    \"--\",\n",
    "    label=\"Accelerated emissions (offsetting emissions)\",\n",
    "    color=\"red\",\n",
    ")\n",
    "plt.plot(\n",
    "    years,\n",
    "    drawdown_embodied_emissions_offset,\n",
    "    \"--\",\n",
    "    label=\"Embodied emissions (offsetting emissions)\",\n",
    "    color=\"purple\",\n",
    ")\n",
    "plt.legend(fontsize=6, ncols=1)\n",
    "plt.ylabel(\"Net emissions per year (GtCO$_2$)\")\n",
    "plt.xlabel(\"Year\")\n",
    "plt.ylim([-12, 12])\n",
    "plt.savefig(\"../figures/Net_emissions_per_year.png\")"
   ]
  },
  {
   "cell_type": "markdown",
   "id": "555e7131-6ded-4592-a2a3-7329eba706af",
   "metadata": {},
   "source": [
    "# Write new emissions"
   ]
  },
  {
   "cell_type": "code",
   "execution_count": null,
   "id": "458fe759-9928-4553-8978-057d767fa385",
   "metadata": {},
   "outputs": [],
   "source": [
    "row_num = emissions_delay.index[emissions_delay[\"variable\"] == \"CO2 FFI\"][0]\n",
    "emissions_delay.iloc[row_num, 4:] = (\n",
    "    emissions_delay.iloc[row_num, 4:] + drawdown_physical_delay\n",
    ")\n",
    "\n",
    "row_num = emissions_delay_offset.index[emissions_delay_offset[\"variable\"] == \"CO2 FFI\"][\n",
    "    0\n",
    "]\n",
    "emissions_delay_offset.iloc[row_num, 4:] = (\n",
    "    emissions_delay_offset.iloc[row_num, 4:] + drawdown_physical_delay_offset\n",
    ")\n",
    "\n",
    "row_num = emissions_instant.index[emissions_instant[\"variable\"] == \"CO2 FFI\"][0]\n",
    "emissions_instant.iloc[row_num, 4:] = (\n",
    "    emissions_instant.iloc[row_num, 4:] + drawdown_instant_removal\n",
    ")\n",
    "\n",
    "row_num = emissions_instant_offset.index[\n",
    "    emissions_instant_offset[\"variable\"] == \"CO2 FFI\"\n",
    "][0]\n",
    "emissions_instant_offset.iloc[row_num, 4:] = (\n",
    "    emissions_instant_offset.iloc[row_num, 4:] + drawdown_instant_removal_offset\n",
    ")\n",
    "\n",
    "row_num = emissions_accelerated.index[emissions_accelerated[\"variable\"] == \"CO2 FFI\"][0]\n",
    "emissions_accelerated.iloc[row_num, 4:] = (\n",
    "    emissions_accelerated.iloc[row_num, 4:] + drawdown_accelerated_emissions\n",
    ")\n",
    "\n",
    "row_num = emissions_accelerated_offset.index[\n",
    "    emissions_accelerated_offset[\"variable\"] == \"CO2 FFI\"\n",
    "][0]\n",
    "emissions_accelerated_offset.iloc[row_num, 4:] = (\n",
    "    emissions_accelerated_offset.iloc[row_num, 4:]\n",
    "    + drawdown_accelerated_emissions_offset\n",
    ")\n",
    "\n",
    "row_num = emissions_upfront.index[emissions_upfront[\"variable\"] == \"CO2 FFI\"][0]\n",
    "emissions_upfront.iloc[row_num, 4:] = (\n",
    "    emissions_upfront.iloc[row_num, 4:] + drawdown_embodied_emissions\n",
    ")\n",
    "\n",
    "row_num = emissions_upfront_offset.index[\n",
    "    emissions_upfront_offset[\"variable\"] == \"CO2 FFI\"\n",
    "][0]\n",
    "emissions_upfront_offset.iloc[row_num, 4:] = (\n",
    "    emissions_upfront_offset.iloc[row_num, 4:] + drawdown_embodied_emissions_offset\n",
    ")"
   ]
  },
  {
   "cell_type": "markdown",
   "id": "509b0a38-4bfa-45d3-9430-47494ea09898",
   "metadata": {},
   "source": [
    "# Save new emissions"
   ]
  },
  {
   "cell_type": "code",
   "execution_count": null,
   "id": "807abadf-db1a-42e8-9a33-9a9df3d2e90b",
   "metadata": {},
   "outputs": [],
   "source": [
    "emissions_subset['scenario']=\"baseline\"\n",
    "volcanic_subset['Scenario']=\"baseline\""
   ]
  },
  {
   "cell_type": "code",
   "execution_count": null,
   "id": "c2e638e0-6c6d-432a-ba4a-9c87254c08e7",
   "metadata": {},
   "outputs": [],
   "source": [
    "emissions_combined = pd.concat(\n",
    "    [\n",
    "        emissions_subset,\n",
    "        emissions_delay,\n",
    "        emissions_delay_offset,\n",
    "        emissions_instant,\n",
    "        emissions_instant_offset,\n",
    "        emissions_accelerated,\n",
    "        emissions_accelerated_offset,\n",
    "        emissions_upfront,\n",
    "        emissions_upfront_offset,\n",
    "    ],\n",
    "    ignore_index=True,\n",
    ")"
   ]
  },
  {
   "cell_type": "code",
   "execution_count": null,
   "id": "2ac781bc-e9d9-4873-b4c2-1f3d6a9ff83d",
   "metadata": {},
   "outputs": [],
   "source": [
    "emissions_combined.to_csv(\"../data/modified/emissions_low.csv\", index=False)"
   ]
  },
  {
   "cell_type": "code",
   "execution_count": null,
   "id": "2ddf4df4-f928-4684-8af2-08ac53387593",
   "metadata": {},
   "outputs": [],
   "source": [
    "volcanic_combined = pd.concat(\n",
    "    [\n",
    "        volcanic_subset,\n",
    "        volcanic_delay,\n",
    "        volcanic_delay_offset,\n",
    "        volcanic_instant,\n",
    "        volcanic_instant_offset,\n",
    "        volcanic_accelerated,\n",
    "        volcanic_accelerated_offset,\n",
    "        volcanic_upfront,\n",
    "        volcanic_upfront_offset,\n",
    "    ],\n",
    "    ignore_index=True,\n",
    ")\n",
    "volcanic_combined.to_csv(\"../data/modified/volcanic.csv\", index=False)"
   ]
  }
 ],
 "metadata": {
  "kernelspec": {
   "display_name": "Python 3 (ipykernel)",
   "language": "python",
   "name": "python3"
  },
  "language_info": {
   "codemirror_mode": {
    "name": "ipython",
    "version": 3
   },
   "file_extension": ".py",
   "mimetype": "text/x-python",
   "name": "python",
   "nbconvert_exporter": "python",
   "pygments_lexer": "ipython3",
   "version": "3.13.7"
  }
 },
 "nbformat": 4,
 "nbformat_minor": 5
}
